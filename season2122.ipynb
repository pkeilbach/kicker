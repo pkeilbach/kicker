{
 "cells": [
  {
   "cell_type": "markdown",
   "metadata": {
    "collapsed": true,
    "pycharm": {
     "name": "#%% md\n"
    }
   },
   "source": [
    "# Analyse der Kicker Manager Saison 2021/22\n",
    "\n",
    "In diesem Notebook wird die Saison 2021/22 der Gruppe Dorf anhand von einigen grundlegenden statistischen Methoden analysiert.\n",
    "Die Codepassagen lassen sich nicht ausblenden, können aber getrost ignoriert werden.\n",
    "Dem interessierten Leser dienen Sie allenfalls der Nachvollziehbarkeit und Kontrolle.\n",
    "\n",
    "## 0. Vorbereitungen\n",
    "\n",
    "Hier werden lediglich einige technisch notwendige Vorkehrungen durchgeführt."
   ]
  },
  {
   "cell_type": "code",
   "execution_count": null,
   "metadata": {
    "pycharm": {
     "name": "#%%\n"
    }
   },
   "outputs": [],
   "source": [
    "import pandas as pd\n",
    "import numpy as np\n",
    "import plotly.express as px\n",
    "import plotly.graph_objects as go\n",
    "from sklearn.linear_model import LinearRegression\n",
    "from sklearn.preprocessing import PolynomialFeatures"
   ]
  },
  {
   "cell_type": "markdown",
   "metadata": {
    "pycharm": {
     "name": "#%% md\n"
    }
   },
   "source": [
    "Als Grundlage dient eine Tabelle mit den Punkten pro Spieltag und Manager.\n",
    "Diese habe ich in eine CSV Datei übertragen.\n",
    "Folgendes Kommando liest die Daten ein."
   ]
  },
  {
   "cell_type": "code",
   "execution_count": null,
   "metadata": {
    "pycharm": {
     "name": "#%%\n"
    }
   },
   "outputs": [],
   "source": [
    "df = pd.read_csv('src/season2122/data.csv')"
   ]
  },
  {
   "cell_type": "markdown",
   "metadata": {
    "collapsed": false,
    "pycharm": {
     "name": "#%% md\n"
    }
   },
   "source": [
    "## 1. Überblick\n",
    "\n",
    "Die Spalten zeigen die Manager, die Reihen stehen für die einzelnen Spieltage.\n",
    "Eine Zelle ist also die Punkteausbeute eines Managers an einem bestimmten Spieltag."
   ]
  },
  {
   "cell_type": "code",
   "execution_count": null,
   "metadata": {
    "collapsed": false,
    "pycharm": {
     "name": "#%%\n"
    }
   },
   "outputs": [],
   "source": [
    "df.head(3)"
   ]
  },
  {
   "cell_type": "markdown",
   "metadata": {
    "pycharm": {
     "name": "#%% md\n"
    }
   },
   "source": [
    "Wie in den meisten Programmiersprachen startet die Indexierung mit Null.\n",
    "In unseren Daten hat das den Effekt, dass Zeile $i$ für Spieltag $i+1$ steht.\n",
    "Um hier nicht immer umdenken zu müssen, gleichen wir den Index an die Spieltage an:"
   ]
  },
  {
   "cell_type": "code",
   "execution_count": null,
   "metadata": {
    "pycharm": {
     "name": "#%%\n"
    }
   },
   "outputs": [],
   "source": [
    "# account for the fact that indexing usually starts with zero but we want matchdays starting with 1\n",
    "df.index += 1"
   ]
  },
  {
   "cell_type": "markdown",
   "metadata": {
    "pycharm": {
     "name": "#%% md\n"
    }
   },
   "source": [
    "Jetzt passen die Indizes zu den Spieltagen:"
   ]
  },
  {
   "cell_type": "code",
   "execution_count": null,
   "metadata": {
    "pycharm": {
     "name": "#%%\n"
    }
   },
   "outputs": [],
   "source": [
    "df.head(3)"
   ]
  },
  {
   "cell_type": "code",
   "execution_count": null,
   "metadata": {
    "pycharm": {
     "name": "#%%\n"
    }
   },
   "outputs": [],
   "source": [
    "df.tail(4)"
   ]
  },
  {
   "cell_type": "code",
   "execution_count": null,
   "metadata": {},
   "outputs": [],
   "source": [
    "df.cumsum()"
   ]
  },
  {
   "cell_type": "markdown",
   "metadata": {
    "pycharm": {
     "name": "#%% md\n"
    }
   },
   "source": [
    "Ein Histogramm gibt einen ersten groben Überblick über die Daten.\n",
    "Es zeigt die Verteilung der Punkteausbeute innerhalb der Liga über die Saison in 5er Intervallen.\n",
    "\n",
    "> Die Diagramme sind interaktiv, beim Überfahren mit der Maus werden weitere Details angezeigt."
   ]
  },
  {
   "cell_type": "code",
   "execution_count": null,
   "metadata": {
    "pycharm": {
     "name": "#%%\n"
    }
   },
   "outputs": [],
   "source": [
    "fig = go.Figure(data=[go.Histogram(x=df.values.flatten())])\n",
    "fig.show()"
   ]
  },
  {
   "cell_type": "markdown",
   "metadata": {
    "pycharm": {
     "name": "#%% md\n"
    }
   },
   "source": [
    "## 2. Mittelwert\n",
    "\n",
    "### 2.1 Globaler Mittelwert\n",
    "\n",
    "der Gesamtdurchschnitt aller Manager und aller Spieltage lag bei 35.54 Punkten."
   ]
  },
  {
   "cell_type": "code",
   "execution_count": null,
   "metadata": {
    "pycharm": {
     "name": "#%%\n"
    }
   },
   "outputs": [],
   "source": [
    "print(f\"Gesamtdurchschnitt der Saison: {df.values.mean().round(2)}\")"
   ]
  },
  {
   "cell_type": "markdown",
   "metadata": {
    "pycharm": {
     "name": "#%% md\n"
    }
   },
   "source": [
    "Wenn man also weniger als diese Punktzahl erreicht hat, hat man in der Liga unterdurchscnittlich gepunktet.\n",
    "\n",
    "Oder anders gesagt: Erst ab 36 Punkten war es ein \"guter\" - da saisonübergreifend überdurchschnittlicher - Spieltag."
   ]
  },
  {
   "cell_type": "markdown",
   "metadata": {
    "pycharm": {
     "name": "#%% md\n"
    }
   },
   "source": [
    "### 2.1 Mittelwert pro Manager"
   ]
  },
  {
   "cell_type": "code",
   "execution_count": null,
   "metadata": {
    "pycharm": {
     "name": "#%%\n"
    }
   },
   "outputs": [],
   "source": [
    "print(df.mean())"
   ]
  },
  {
   "cell_type": "markdown",
   "metadata": {
    "pycharm": {
     "name": "#%% md\n"
    }
   },
   "source": [
    "Es überrascht wenig, dass Micha von einer sehr guten Saison sprechen wird,\n",
    "doch auch Pommo und Didi hatten - rein objektiv betrachtet - eine gute Saison,\n",
    "da ihr persönlicher Saisondurchschnitt noch knapp über dem Gesamtschnitt von 35.54 Punkten liegt.\n",
    "\n",
    "Alle anderen Manager hatten eine unterdurchschnittliche Saison.\n",
    "\n",
    "Grafisch lässt sich das z.B. so darstellen:"
   ]
  },
  {
   "cell_type": "code",
   "execution_count": null,
   "metadata": {
    "pycharm": {
     "name": "#%%\n"
    }
   },
   "outputs": [],
   "source": [
    "fig = go.Figure()\n",
    "fig.add_trace(go.Bar(x=df.columns, y=df.mean().round(2)))\n",
    "fig.add_shape(type='line', x0=-1, y0=df.values.mean(), x1=7, y1=df.values.mean(), line=dict(color='green'))\n",
    "fig.show()"
   ]
  },
  {
   "cell_type": "markdown",
   "metadata": {
    "pycharm": {
     "name": "#%% md\n"
    }
   },
   "source": [
    "## 3. Extremwerte\n",
    "\n",
    "### 3.1 Bester Spieltag Gruppe Dorf"
   ]
  },
  {
   "cell_type": "code",
   "execution_count": null,
   "metadata": {
    "pycharm": {
     "name": "#%%\n"
    }
   },
   "outputs": [],
   "source": [
    "df.mean(axis=1).sort_values(ascending=False).head(5).round(2)"
   ]
  },
  {
   "cell_type": "markdown",
   "metadata": {
    "pycharm": {
     "name": "#%% md\n"
    }
   },
   "source": [
    "Unser bester Spieltag war der 26. Spieltag, der Punkteschnitt der Gruppe Dorf lag an diesem Spieltag bei 58.57 Punkten.\n",
    "\n",
    "Wer an diesem Spieltag 58 Punkte oder weniger geholt hat, hatte im Ligavergleich bereits einen \"schlechten\" Spieltag.\n",
    "\n",
    "Hier die zugehörige Spieltagswertung:"
   ]
  },
  {
   "cell_type": "code",
   "execution_count": null,
   "metadata": {
    "pycharm": {
     "name": "#%%\n"
    }
   },
   "outputs": [],
   "source": [
    "i = df.mean(axis=1).idxmax()\n",
    "df.loc[i].sort_values(ascending=False)"
   ]
  },
  {
   "cell_type": "markdown",
   "metadata": {
    "pycharm": {
     "name": "#%% md\n"
    }
   },
   "source": [
    "Zur Rekapitulation, hier die Ergebnisse und Elf des Tages vom 26. Spieltag\n",
    "\n",
    "<img src=\"src/season2021/img/md26_results.png\" alt=\"Ergebnisse Spieltag 26\" width=\"50%\"/>\n",
    "<img src=\"src/season2021/img/md26_totw.png\" alt=\"Elf des Tages Spieltag 26\" width=\"50%\"/>"
   ]
  },
  {
   "cell_type": "markdown",
   "metadata": {
    "pycharm": {
     "name": "#%% md\n"
    }
   },
   "source": [
    "### 3.2 Schlechtester Spieltag Gruppe Dorf"
   ]
  },
  {
   "cell_type": "code",
   "execution_count": null,
   "metadata": {
    "collapsed": false,
    "pycharm": {
     "name": "#%%\n"
    }
   },
   "outputs": [],
   "source": [
    "df.mean(axis=1).sort_values(ascending=True).head(5).round(2)"
   ]
  },
  {
   "cell_type": "markdown",
   "metadata": {
    "collapsed": false,
    "pycharm": {
     "name": "#%% md\n"
    }
   },
   "source": [
    "Unser schlechtester Spieltag ist noch gar nicht lange her, nämlich der 30. Spieltag.\n",
    "\n",
    "Auch hier kurz unsere Punkteausbeute an diesem Spieltag:"
   ]
  },
  {
   "cell_type": "code",
   "execution_count": null,
   "metadata": {
    "pycharm": {
     "name": "#%%\n"
    }
   },
   "outputs": [],
   "source": [
    "i = df.mean(axis=1).idxmin()\n",
    "df.loc[i].sort_values(ascending=False)"
   ]
  },
  {
   "cell_type": "markdown",
   "metadata": {
    "pycharm": {
     "name": "#%% md\n"
    }
   },
   "source": [
    "Und ebenfalls noch die Ergebnisse und Elf des Tages:\n",
    "\n",
    "<img src=\"src/season2021/img/md30_results.png\" alt=\"Ergebnisse Spieltag 30\" width=\"50%\"/>\n",
    "<img src=\"src/season2021/img/md30_totw.png\" alt=\"Elf des Tages Spieltag 30\" width=\"50%\"/>"
   ]
  },
  {
   "cell_type": "markdown",
   "metadata": {
    "pycharm": {
     "name": "#%% md\n"
    }
   },
   "source": [
    "### 3.3 Bester Spieltag pro Manager"
   ]
  },
  {
   "cell_type": "code",
   "execution_count": null,
   "metadata": {
    "pycharm": {
     "name": "#%%\n"
    }
   },
   "outputs": [],
   "source": [
    "max_per_manager = pd.concat(\n",
    "    [df.idxmax().rename('matchday'), df.max().rename('points')],\n",
    "    axis=1\n",
    ")\n",
    "\n",
    "# check if the max is also the max in the corresponding row ...\n",
    "max_per_manager['was_md_winner'] = df.max().values == df.loc[df.idxmax().values].max(axis=1).values\n",
    "\n",
    "print(\"Bester Spieltag pro Manager:\")\n",
    "print(f\"{max_per_manager.sort_values(by='points', ascending=False)}\")"
   ]
  },
  {
   "cell_type": "markdown",
   "metadata": {
    "pycharm": {
     "name": "#%% md\n"
    }
   },
   "source": [
    "Pommo hatte seinen besten Spieltag gleich am Anfang\n",
    "(... wir erinnern uns an 3 Gnabry Tore gegen Schalke).\n",
    "\n",
    "Der \"schlechteste beste\" Spieltag geht an Yannick.\n",
    "\n",
    "Oder anders gesagt:\n",
    "Yannick konnte diese Saison kein allzu großes Ausrufezeichen setzen,\n",
    "und an seinem besten Spieltag (15. Spieltag) war er nicht einmal Spieltagssieger:"
   ]
  },
  {
   "cell_type": "code",
   "execution_count": null,
   "metadata": {
    "pycharm": {
     "name": "#%%\n"
    }
   },
   "outputs": [],
   "source": [
    "i = max_per_manager['points'].idxmin()\n",
    "md = max_per_manager['matchday'].loc[i]\n",
    "df.loc[md].sort_values(ascending=False)"
   ]
  },
  {
   "cell_type": "markdown",
   "metadata": {
    "pycharm": {
     "name": "#%% md\n"
    }
   },
   "source": [
    "### 3.4 Top-Werte\n",
    "\n",
    "Der Punkterekord diese Saison geht an Berthi:\n",
    "Am 29. Spieltag gelangen ihm unglaubliche 84 Punkte.\n",
    "\n",
    "Außerdem ist er der einzige Manager, der die 80 geknackt hat, und das sogar gleich zwei Mal:"
   ]
  },
  {
   "cell_type": "code",
   "execution_count": null,
   "metadata": {
    "pycharm": {
     "name": "#%%\n"
    }
   },
   "outputs": [],
   "source": [
    "df.where(df >= 80).count().sort_values(ascending=False)"
   ]
  },
  {
   "cell_type": "markdown",
   "metadata": {
    "pycharm": {
     "name": "#%% md\n"
    }
   },
   "source": [
    "Die 70er Hürde Punkten konnten dann schon mehrere Manager überspringen:"
   ]
  },
  {
   "cell_type": "code",
   "execution_count": null,
   "metadata": {
    "pycharm": {
     "name": "#%%\n"
    }
   },
   "outputs": [],
   "source": [
    "df.where(df >= 70).count().sort_values(ascending=False)"
   ]
  },
  {
   "cell_type": "markdown",
   "metadata": {
    "pycharm": {
     "name": "#%% md\n"
    }
   },
   "source": [
    "Die 60 haben alle mindestens einmal geschafft, Didi gar 6 mal!"
   ]
  },
  {
   "cell_type": "code",
   "execution_count": null,
   "metadata": {
    "pycharm": {
     "name": "#%%\n"
    }
   },
   "outputs": [],
   "source": [
    "df.where(df >= 60).count().sort_values(ascending=False)\n"
   ]
  },
  {
   "cell_type": "markdown",
   "metadata": {
    "pycharm": {
     "name": "#%% md\n"
    }
   },
   "source": [
    "### 3.5 Schlechtester Spieltag pro Manager"
   ]
  },
  {
   "cell_type": "code",
   "execution_count": null,
   "metadata": {
    "pycharm": {
     "name": "#%%\n"
    }
   },
   "outputs": [],
   "source": [
    "min_per_manager = pd.concat(\n",
    "    [df.idxmin().rename('matchday'), df.min().rename('points')],\n",
    "    axis=1\n",
    ")\n",
    "\n",
    "print(\"Schlechtester Spieltag pro Manager\")\n",
    "print(f\"{min_per_manager.sort_values(by='points', ascending=False)}\")"
   ]
  },
  {
   "cell_type": "markdown",
   "metadata": {
    "pycharm": {
     "name": "#%% md\n"
    }
   },
   "source": [
    "Berthi hatte nicht nur den besten Spieltag aller Manager,\n",
    "sondern mit -2 auch den schlechtesten Spieltag aller Manager.\n",
    "\n",
    "### 3.6 Flop Werte\n",
    "\n",
    "Gleichzeitig ist Berthi der einzige Manager überhaupt mit negativer Punkteausbeute:"
   ]
  },
  {
   "cell_type": "code",
   "execution_count": null,
   "metadata": {
    "pycharm": {
     "name": "#%%\n"
    }
   },
   "outputs": [],
   "source": [
    "df.where(df < 10).count().sort_values(ascending=False)"
   ]
  },
  {
   "cell_type": "markdown",
   "metadata": {
    "pycharm": {
     "name": "#%% md\n"
    }
   },
   "source": [
    "Hier noch wer wie oft die Einstelligkeit erlebt hat:"
   ]
  },
  {
   "cell_type": "code",
   "execution_count": null,
   "metadata": {
    "pycharm": {
     "name": "#%%\n"
    }
   },
   "outputs": [],
   "source": [
    "df.where(df < 20).count().sort_values(ascending=False)\n"
   ]
  },
  {
   "cell_type": "code",
   "execution_count": null,
   "metadata": {},
   "outputs": [],
   "source": [
    "df.where(df < 30).count().sort_values(ascending=False)\n"
   ]
  },
  {
   "cell_type": "code",
   "execution_count": null,
   "metadata": {},
   "outputs": [],
   "source": [
    "df.where(df < 40).count().sort_values(ascending=False)\n"
   ]
  },
  {
   "cell_type": "markdown",
   "metadata": {
    "pycharm": {
     "name": "#%% md\n"
    }
   },
   "source": [
    "Auch hier Berthi vorne.\n",
    "Er hat also alle Extreme erlebt diese Saison (etwas mehr dazu noch weiter unten).\n",
    "\n",
    "Außerdem bemerkenswert: Micha ist der einzige Manager der nie einstellig war."
   ]
  },
  {
   "cell_type": "markdown",
   "metadata": {
    "pycharm": {
     "name": "#%% md\n"
    }
   },
   "source": [
    "## 4. Spieltagssiege"
   ]
  },
  {
   "cell_type": "code",
   "execution_count": null,
   "metadata": {
    "pycharm": {
     "name": "#%%\n"
    }
   },
   "outputs": [],
   "source": [
    "df.idxmax(axis=1).value_counts()"
   ]
  },
  {
   "cell_type": "markdown",
   "metadata": {
    "pycharm": {
     "name": "#%% md\n"
    }
   },
   "source": [
    "Wenig überraschend hat Micha die meisten Spieltagessiege.\n",
    "\n",
    "Interessant: Didi hat doppelt so viele Spieltagssiege wie Pommo, landete in der Abschlusstabelle aber dennoch hinter ihm."
   ]
  },
  {
   "cell_type": "code",
   "execution_count": null,
   "metadata": {
    "pycharm": {
     "name": "#%%\n"
    }
   },
   "outputs": [],
   "source": [
    "# similar, more readable approach\n",
    "# ranks_array = np.argsort(np.argsort(df.to_numpy() * -1)) + 1\n",
    "# md_ranks = pd.DataFrame(ranks_array, columns=df.columns)\n",
    "# md_ranks.where(md_ranks == 1).count().sort_values(ascending=False)"
   ]
  },
  {
   "cell_type": "markdown",
   "metadata": {
    "pycharm": {
     "name": "#%% md\n"
    }
   },
   "source": [
    "## 5. Liga Tabelle\n",
    "\n",
    "Wer die meisten Spieltage den Platz an der Sonne inne hatte sollte klar sein - ganz klar Micha.\n",
    "Pommo hatte stark angefangen, weshalb er mit 5 Tabellenführungen zweiter in diesem Ranking ist.\n",
    "Gerne erinnern wir uns auch an Grätes fulminanten Start, nicht zuletzt dank Silas!\n",
    "Interessant: Gesamtlooser Säsch war sogar insgesamt 3 Spieltage Tabellenführer!"
   ]
  },
  {
   "cell_type": "code",
   "execution_count": null,
   "metadata": {
    "pycharm": {
     "name": "#%%\n"
    }
   },
   "outputs": [],
   "source": [
    "stat_array = np.argsort(np.argsort(df.cumsum().to_numpy() * -1)) + 1\n",
    "stats = pd.DataFrame(stat_array, columns=df.columns)\n",
    "stats.where(stats == 1).count().sort_values(ascending=False)"
   ]
  },
  {
   "cell_type": "markdown",
   "metadata": {
    "collapsed": false,
    "pycharm": {
     "name": "#%% md\n"
    }
   },
   "source": [
    "Der umgekehrte Fall ist ebenso interessant.\n",
    "Die meiste Zeit lag die rote Laterne bei Berthi, doch in letzter Sekunde konnte sie noch an Säsch abgeben."
   ]
  },
  {
   "cell_type": "code",
   "execution_count": null,
   "metadata": {
    "collapsed": false,
    "pycharm": {
     "name": "#%%\n"
    }
   },
   "outputs": [],
   "source": [
    "stats.where(stats == 7).count().sort_values(ascending=False)\n"
   ]
  },
  {
   "cell_type": "markdown",
   "metadata": {
    "pycharm": {
     "name": "#%% md\n"
    }
   },
   "source": [
    "## 6. Punkteentwicklung\n",
    "\n",
    "An der Punkteentwicklung über die Saison gesehen lassen sich intuitiv gewisse Trends ablesen.\n",
    "So ist ganz klar Michas Dominanz erkennbar, und auch Berthis Aufwärtstrend, sowie sein Auf und Ab lässt sich gut erkennen.\n",
    "In etwa ab dem 10. Spieltag hat sich die Liga einigermaßen sortiert und Michas Dominanz geht so richtig los.\n",
    "In dieser Phase verliert auch Berthi etwas den Anschluss, bekommt aber, wie wir jetzt wissen, am Ende noch die Kurve ;)\n",
    "Auch Säschs abwärtstrend ab der Winterpause ist klar erkennbar."
   ]
  },
  {
   "cell_type": "code",
   "execution_count": null,
   "metadata": {
    "pycharm": {
     "name": "#%%\n"
    }
   },
   "outputs": [],
   "source": [
    "points_cum = df.cumsum()\n",
    "points_cum.tail(3)\n",
    "\n",
    "fig = px.line(points_cum)\n",
    "fig.update_traces(mode='lines+markers')\n",
    "# fig.update_yaxes(autorange=\"reversed\")\n",
    "fig.update_layout(xaxis_title=\"Matchday\", yaxis_title=\"Points\",)\n",
    "fig.show()"
   ]
  },
  {
   "cell_type": "markdown",
   "metadata": {
    "pycharm": {
     "name": "#%% md\n"
    }
   },
   "source": [
    "## 7. Ähnliche Manager\n",
    "\n",
    "Die Ähnlichkeit zweier Manager kann man bestimmen, indem man betrachtet, wie sehr Ihre Punkteausbeute korreliert, also voneinander abhängt.\n",
    "Zwei Manager $A$ und $B$ korrelieren, wenn an Spieltagen, an denen Manager $A$ gut punktet, $B$ ebenfalls gut punktet, und an Spieltagen an denen $A$ schlecht punktet, punktet auch $B$ schlecht.\n",
    "Typischerweise haben diese Manager viele gleiche Spieler, oder aber auch viele Spieler aus gleichen Vereinen (z.B. haben A und B viele \"Grüne\" und Freiburger ;) ).\n",
    "Hätten beispielsweise zwei Manager $A$ und $B$ eine komplett identische Truppe, wäre Ihre Punkteausbeute an jedem Spieltag gleich, und somit läge der Korrelationswert bei 1.\n",
    "Ist das Gegenteil der Fall, liegt dieser Wert bei 0.\n",
    "\n",
    "Die Korrelationsmatrix zeigt uns die Zahlenwerte hierfür:"
   ]
  },
  {
   "cell_type": "code",
   "execution_count": null,
   "metadata": {
    "pycharm": {
     "name": "#%%\n"
    }
   },
   "outputs": [],
   "source": [
    "df.corr()"
   ]
  },
  {
   "cell_type": "markdown",
   "metadata": {
    "collapsed": false,
    "pycharm": {
     "name": "#%% md\n"
    }
   },
   "source": [
    "D.h. der höchste Wert hier steht für die beiden \"ähnlichsten\" Manager.\n",
    "Intuitiver kann man das in einer Heatmap erkennen:"
   ]
  },
  {
   "cell_type": "code",
   "execution_count": null,
   "metadata": {
    "collapsed": false,
    "pycharm": {
     "name": "#%%\n"
    }
   },
   "outputs": [],
   "source": [
    "fig = px.imshow(df.corr())\n",
    "fig.show()"
   ]
  },
  {
   "cell_type": "markdown",
   "metadata": {
    "collapsed": false,
    "pycharm": {
     "name": "#%% md\n"
    }
   },
   "source": [
    "Die einzige leicht merkbare Korrelation besteht bei Didi und Pommo mit einem Wert von rund 0.57.\n",
    "Alles was kleiner als 0.5 ist, ist zu sehr vom Zufall geprägt.\n",
    "\n",
    "Das erkennt man etwas detaillierter an der Scatterplot Matrix:"
   ]
  },
  {
   "cell_type": "code",
   "execution_count": null,
   "metadata": {
    "pycharm": {
     "name": "#%%\n"
    }
   },
   "outputs": [],
   "source": [
    "fig = px.scatter_matrix(df)\n",
    "fig.update_layout(font=dict(size=8))\n",
    "fig.show()\n"
   ]
  },
  {
   "cell_type": "markdown",
   "metadata": {
    "collapsed": false,
    "pycharm": {
     "name": "#%% md\n"
    }
   },
   "source": [
    "Korrelieren zwei Manager stark, liegen alle Punkte auf der Diagonalen - so wie das der Fall ist wenn man Manager $A$ mit sich selbst vergleicht, was quasi zwei identische Manager simuliert.\n",
    "Und je \"ungeordneter\" die Punkte, desto weniger korrelieren zwei Manager.\n",
    "Am ehesten ist hier noch ein Trend bei Didi und Pommo erkennbar, obgleich auch hier schon eine große Streuung vorhanden ist.\n"
   ]
  },
  {
   "cell_type": "markdown",
   "metadata": {
    "pycharm": {
     "name": "#%% md\n"
    }
   },
   "source": [
    "## 8. Standardabweichung\n",
    "\n",
    "Einige der bisherigen Zahlen lassen bereits erahnen, dass Berthi eine sehr wankelmütige Saison erlebte.\n",
    "Das kann man auch in einer einzigen Zahl ausdrücken, nämlich der Standardabweichung.\n",
    "Sie kann interpretiert werden als \"durchschnittliche Streuung um den Mittelwert\"\n",
    "\n",
    "Folgendes Extrembeispiel soll die Idee veranschaulichen:\n",
    "\n",
    "Die Zahlentripel $A = (10, 40, 70)$ und $B = (39, 40, 41)$ haben beide den Mittelwert $µ=40$,\n",
    "doch ist es offensichtlich, dass Streuung bei $A$ deutlich größer ist als bei $B$.\n",
    "Genau das wird durch die Standardabweichung $\\sigma$ ausgedrückt, indem man den Abstand zum Mittelwert misst:\n",
    "\n",
    "$\\sigma = \\sqrt{\\frac{\\sum{(x_i-\\mu)^2}}{N}}$\n",
    "\n",
    "Hier nun die Standardabweichung pro Manager:"
   ]
  },
  {
   "cell_type": "code",
   "execution_count": null,
   "metadata": {
    "pycharm": {
     "name": "#%%\n"
    }
   },
   "outputs": [],
   "source": [
    "df.std().sort_values(ascending=False)"
   ]
  },
  {
   "cell_type": "markdown",
   "metadata": {
    "collapsed": false,
    "pycharm": {
     "name": "#%% md\n"
    }
   },
   "source": [
    "Hiermit ist Berthis Auf und Ab sozusagen statistisch bewiesen.\n",
    "Doch auch Didis Saisonverlauf zeigt eine hohe Standardabweichung.\n",
    "Wir erinnern uns daran, dass er relativ schlecht gestartet ist und erst im Lauf der Saison Fahrt aufgenommen hat.\n",
    "\n",
    "Der Abstand zwichen Maximal- und Minimalwert ist ebenfalls schon ein guter Streuungsindikator."
   ]
  },
  {
   "cell_type": "code",
   "execution_count": null,
   "metadata": {
    "pycharm": {
     "name": "#%%\n"
    }
   },
   "outputs": [],
   "source": [
    "(df.max() - df.min()).sort_values(ascending=False)\n"
   ]
  },
  {
   "cell_type": "markdown",
   "metadata": {
    "pycharm": {
     "name": "#%% md\n"
    }
   },
   "source": [
    "## 9. Wenn die Saison 38 Spieltage hätte ...\n",
    "\n",
    "Wenn wir uns vorstellen, die Saison hätte, wie in den anderen großen Ligen, 38 Spieltage,\n",
    "können wir mittels Regression hochrechnen, wie der Stand nach 38 Spieltagen aussehen könnte.\n",
    "\n",
    "Schade für Berthi, dass die Saison zu Ende ist, denn bei ihm get der Trend nach oben.\n",
    "Gräte kommt Säsch noch ziemlich nahe, womöglich hätte Säsch also nach 38 Spieltagen die rote Laterne wieder abgeben können.\n",
    "\n",
    "Aber hätte der 🐕 nicht  💩, hätte er die 🐈 erwischt 😃"
   ]
  },
  {
   "cell_type": "code",
   "execution_count": null,
   "metadata": {
    "pycharm": {
     "name": "#%%\n"
    }
   },
   "outputs": [],
   "source": [
    "# provide data\n",
    "add_mds = 4\n",
    "X = np.arange(len(points_cum) + add_mds).reshape(-1, 1)\n",
    "Y = points_cum.to_numpy()\n",
    "D = 3\n",
    "t = len(df)\n",
    "\n",
    "# transform data to polynomial\n",
    "transformer = PolynomialFeatures(degree=D)\n",
    "X_poly = transformer.fit_transform(X)\n",
    "\n",
    "# fit the linear regression model on first 34 matchdays\n",
    "model = LinearRegression().fit(X_poly[:t], Y[:t])\n",
    "\n",
    "# predict on 38 matchdays\n",
    "y_pred = model.predict(X_poly)\n",
    "df_38 = pd.DataFrame(y_pred, columns=df.columns)\n",
    "\n",
    "# plot\n",
    "fig = go.Figure()\n",
    "colors = iter(px.colors.qualitative.Plotly)\n",
    "for c in df.columns:\n",
    "    color = next(colors)\n",
    "    fig.add_trace(go.Scatter(x=np.arange(40), y=points_cum[c], mode='markers', name=c, line=dict(color=color)))\n",
    "    fig.add_trace(go.Scatter(x=np.arange(40), y=df_38[c], showlegend=False, line=dict(color=color)))\n",
    "fig.show()"
   ]
  },
  {
   "cell_type": "markdown",
   "metadata": {
    "collapsed": false,
    "pycharm": {
     "name": "#%% md\n"
    }
   },
   "source": [
    "## 10. Schlusswort\n",
    "\n",
    "Das soll es dann auch gewesen sein.\n",
    "Ich hoffe der etwas andere Blick auf das Managerspiel hat euch bei lesen ähnlich Freude bereitet wie mir beim erstellen :)"
   ]
  }
 ],
 "metadata": {
  "kernelspec": {
   "display_name": "Python 3",
   "language": "python",
   "name": "python3"
  },
  "language_info": {
   "codemirror_mode": {
    "name": "ipython",
    "version": 3
   },
   "file_extension": ".py",
   "mimetype": "text/x-python",
   "name": "python",
   "nbconvert_exporter": "python",
   "pygments_lexer": "ipython3",
   "version": "3.9.7"
  }
 },
 "nbformat": 4,
 "nbformat_minor": 1
}
